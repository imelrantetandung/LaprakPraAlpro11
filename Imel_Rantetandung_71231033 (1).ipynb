{
  "nbformat": 4,
  "nbformat_minor": 0,
  "metadata": {
    "colab": {
      "provenance": []
    },
    "kernelspec": {
      "name": "python3",
      "display_name": "Python 3"
    },
    "language_info": {
      "name": "python"
    }
  },
  "cells": [
    {
      "cell_type": "code",
      "execution_count": null,
      "metadata": {
        "id": "xZ5T0JN_pb22"
      },
      "outputs": [],
      "source": [
        "#SOAL NO.1\n",
        "angka = {1: 10, 2: 20, 3: 30, 4: 40, 5: 50, 6: 60}\n",
        "\n",
        "\n",
        "print(\"key value item\")\n",
        "\n",
        "for key, value in angka.items():\n",
        "    print(key, value, key)"
      ]
    },
    {
      "cell_type": "code",
      "source": [
        "#SOAL NO.2\n",
        "warna = ['red','green','blue']\n",
        "kode = ['#FF0000','#008000','#000FF']\n",
        "\n",
        "kamus = dict()\n",
        "\n",
        "for i in range(len(warna)):\n",
        "    kamus[warna[i]] = kode[i]\n",
        "\n",
        "print(kamus)"
      ],
      "metadata": {
        "id": "IQlQ0nHmpn--"
      },
      "execution_count": null,
      "outputs": []
    },
    {
      "cell_type": "code",
      "source": [
        "#SOAL NO.3\n",
        "import re\n",
        "\n",
        "file = input('Masukkan nama file : ')\n",
        "handle = open(file)\n",
        "\n",
        "kamus = dict()\n",
        "for i in handle:\n",
        "    x = re.search('From: ',i)\n",
        "    if (x):\n",
        "        i = i.strip()\n",
        "        i = i.lstrip('From: ')\n",
        "        if i not in kamus:\n",
        "            kamus[i] = 1\n",
        "        else:\n",
        "            kamus[i] = kamus[i] + 1\n",
        "print(kamus)\n",
        "\n",
        "handle.close()"
      ],
      "metadata": {
        "id": "xfb0aGEgpsYO"
      },
      "execution_count": null,
      "outputs": []
    },
    {
      "cell_type": "code",
      "source": [
        "#SOAL NO.4\n",
        "import re\n",
        "\n",
        "file = input('Masukkan nama file : ')\n",
        "handle = open(file)\n",
        "\n",
        "kamus = dict()\n",
        "for i in handle:\n",
        "    x = re.search('From: ',i)\n",
        "    if (x):\n",
        "        i = i.strip()\n",
        "        i = i.split('@')\n",
        "        i = i[1]\n",
        "        if i not in kamus:\n",
        "            kamus[i] = 1\n",
        "        else:\n",
        "            kamus[i] = kamus[i] + 1\n",
        "print(kamus)\n",
        "\n",
        "handle.close()"
      ],
      "metadata": {
        "id": "pLzqykT8pxm6"
      },
      "execution_count": null,
      "outputs": []
    }
  ]
}